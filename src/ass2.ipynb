{
 "cells": [
  {
   "cell_type": "markdown",
   "id": "124e875a-e7a4-4dba-953f-0009427440a2",
   "metadata": {},
   "source": [
    "# Genetic Algorithm and Cellular Automata"
   ]
  },
  {
   "cell_type": "markdown",
   "id": "73969209-adb2-48f8-8689-0a91aadd8719",
   "metadata": {},
   "source": [
    "## Genetic Algorithm"
   ]
  },
  {
   "cell_type": "code",
   "execution_count": 180,
   "id": "04bceaa4-db17-4d7f-a376-db08c26ac459",
   "metadata": {},
   "outputs": [],
   "source": [
    "import ioh\n",
    "import random\n",
    "import numpy as np\n",
    "from algorithm import Algorithm\n",
    "\n",
    "class RandomSearch(Algorithm):\n",
    "    '''An example of Random Search.'''\n",
    "\n",
    "    def __call__(self, problem: ioh.problem.Integer) -> None:\n",
    "        self.y_best: float = float(\"inf\")\n",
    "        for iteration in range(self.max_iterations):\n",
    "            # Generate a random bit string\n",
    "            x: list[int] = [random.randint(0, 1) for _ in range(problem.meta_data.n_variables)]\n",
    "            # Call the problem in order to get the y value    \n",
    "            y: float = problem(x)\n",
    "            # update the current state\n",
    "            self.y_best = max(self.y_best, y)\n",
    "\n",
    "\n",
    "class GeneticAlgorithm(Algorithm):\n",
    "\n",
    "    def __init__(self, pop_size=22, dim=10, seed=23, base=2, mutation_type=\"swap\", mutation_rate=0.5, selection=\"proportional\"):\n",
    "        assert selection == \"proportional\" or selection == \"rank\", \"selection only accepts \\\"proportional\\\" or \\\"rank\\\"\"\n",
    "        super().__init__(max_iterations=50000)\n",
    "        self.mutation_type = mutation_type\n",
    "        self.dim = dim\n",
    "        self.seed = seed\n",
    "        self.base = base\n",
    "        self.population_size = pop_size\n",
    "        np.random.seed(self.seed)\n",
    "        self.population = self.generate_population()\n",
    "        self.y_best = 0.0\n",
    "        self.x_best : list[int] = []\n",
    "        self.fitness_scores = []\n",
    "        self.mutation_rate = mutation_rate\n",
    "        self.selection_method = selection\n",
    "\n",
    "\n",
    "    def generate_candidate(self):\n",
    "        \"\"\"\n",
    "        Generate a candidate i for the population self.population\n",
    "        \"\"\"\n",
    "        candidate = np.random.randint(self.base, size=self.dim, dtype=int)\n",
    "        return candidate\n",
    "\n",
    "\n",
    "    def generate_population(self):\n",
    "        \"\"\"\n",
    "        Generate a candidate for every i in self.population_size\n",
    "        \"\"\"\n",
    "        return [self.generate_candidate() for i in range(self.population_size)]\n",
    "\n",
    "\n",
    "    def print_pop_size(self):\n",
    "        \"\"\"\n",
    "        Print the population size\n",
    "        \"\"\"\n",
    "        print(self.population_size)\n",
    "\n",
    "    def evaluate_population(self, problem):\n",
    "        [self.fitness(self.population[i], problem) for i in range(self.population_size)]\n",
    "\n",
    "\n",
    "\n",
    "    def selection(self, problem, k=2):\n",
    "        \"\"\"\n",
    "        * Calculate fitness score/weight for every candidate\n",
    "        * Randomly select k candidates given selection probabilities\n",
    "        * return a list of two candidates\n",
    "        \"\"\"\n",
    "        candidates = np.empty(shape=[0, 2])\n",
    "        self.evaluate_population(problem)\n",
    "        for candidate in range(len(self.population)):\n",
    "            candidates = np.append(candidates, [[self.population[candidate], self.selection_probabilities(candidate)]], axis=0)\n",
    "        weights = np.array(candidates[:,1], dtype=float)\n",
    "        np_candidates = np.array(candidates[:,0])\n",
    "        \n",
    "        if self.selection_method==\"rank\":\n",
    "            sorted_candidates = np.asarray(sorted(candidates, key=lambda l: l[1]))\n",
    "            np_candidates = np.array(sorted_candidates[:,0])\n",
    "            rank_weights = [] \n",
    "            for i in range(1, self.population_size+1):\n",
    "                rank_weights.append(i)\n",
    "            sum_rank_weights = sum(rank_weights)\n",
    "            for i in range(self.population_size):\n",
    "                rank_weights[i] = rank_weights[i]/sum_rank_weights\n",
    "            selected = np.random.choice(np_candidates, p=rank_weights, size=2)\n",
    "        else:\n",
    "            selected = np.random.choice(np_candidates, p=weights, size=2)\n",
    "        return selected\n",
    "\n",
    "\n",
    "    def selection_probabilities(self, candidate_idx):\n",
    "        \"\"\"\n",
    "        Return candidate fitness score / population fitness score\n",
    "        \"\"\"\n",
    "        prob = (self.fitness_scores[candidate_idx] / self.population_fitness())\n",
    "        return prob\n",
    "\n",
    "\n",
    "    def mutation(self, offspring):\n",
    "        \"\"\"\n",
    "        For every child in the offspring apply either a swap, reverse or an insert mutation\n",
    "        \"\"\"\n",
    "        new_offspring = []\n",
    "        prob = np.random.random_sample(self.population_size)\n",
    "        idx = 0\n",
    "        if self.mutation_type == \"swap\":\n",
    "            for child in offspring:\n",
    "                if prob[idx] > 1-self.mutation_rate:\n",
    "                    child = self.swap_mutation(child)\n",
    "                    new_offspring.append(child)\n",
    "                else:\n",
    "                    new_offspring.append(child)\n",
    "                idx += 1\n",
    "        elif self.mutation_type == \"insert\":\n",
    "            for child in offspring:\n",
    "                if prob[idx] > 1-self.mutation_rate:\n",
    "                    child = self.insert_mutation(child)\n",
    "                    new_offspring.append(child)\n",
    "                else:\n",
    "                    new_offspring.append(child)\n",
    "                idx += 1\n",
    "        else:\n",
    "            for child in offspring:\n",
    "                if prob[idx] > 1-self.mutation_rate:\n",
    "                    child = self.reverse_mutation(child)\n",
    "                    new_offspring.append(child)\n",
    "                else:\n",
    "                    new_offspring.append(child)\n",
    "                idx += 1\n",
    "\n",
    "        return new_offspring\n",
    "\n",
    "\n",
    "    def swap_mutation(self, child):\n",
    "        \"\"\"\n",
    "        Apply a swap mutation, by randomly selecting 2 genes and swapping them.\n",
    "        \"\"\"\n",
    "        rand_idx = np.random.randint(self.dim,size=2)\n",
    "        temp = child[rand_idx[1]]\n",
    "        child[rand_idx[1]] = child[rand_idx[0]]\n",
    "        child[rand_idx[0]] = temp\n",
    "        return child\n",
    "\n",
    "\n",
    "\n",
    "    def insert_mutation(self, child):\n",
    "        \"\"\"\n",
    "        * Apply an insert mutation, by randomly selecting an i and a j in the genome.\n",
    "        * Insert j at position i+1 and delete it's previous index\n",
    "        \"\"\"\n",
    "        child = list(child)\n",
    "        i_idx = np.random.randint(len(child))\n",
    "        j_idx = np.random.randint(len(child))\n",
    "\n",
    "        while i_idx == j_idx:\n",
    "            i_idx = np.random.randint(len(child))\n",
    "            j_idx = np.random.randint(len(child))\n",
    "        child.insert(i_idx+1, child[j_idx])\n",
    "        if j_idx > i_idx:\n",
    "            child.pop(j_idx+1)\n",
    "        else:\n",
    "            child.pop(j_idx)\n",
    "        return child\n",
    "\n",
    "    def reverse_mutation(self, child):\n",
    "        child = list(child)\n",
    "        i_idx = np.random.randint(len(child))\n",
    "        j_idx = np.random.randint(len(child))\n",
    "\n",
    "        while i_idx == j_idx or i_idx > j_idx:\n",
    "            i_idx = np.random.randint(len(child))\n",
    "            j_idx = np.random.randint(len(child))\n",
    "        sublist = child[i_idx:j_idx]\n",
    "        sublist.reverse()\n",
    "        child[i_idx:j_idx] = sublist\n",
    "        return child\n",
    "\n",
    "    def crossover(self, parents):\n",
    "        \"\"\"\n",
    "        For every child in the offspring apply a crossover.\n",
    "        \"\"\"\n",
    "        if(len(parents) != 2):\n",
    "            raise ValueError(\"There should be 2 parents\")\n",
    "        offspring = []\n",
    "        for i in range(self.population_size):\n",
    "            offspring.append(self.crossover_operator(parents))\n",
    "\n",
    "        return offspring\n",
    "\n",
    "\n",
    "    def crossover_operator(self, parents):\n",
    "        \"\"\"\n",
    "        * Given two parents, create a child based on a random uniform probability\n",
    "        * Children are created by a simple treshold. If the probability of a certain index in idx_prob is higher than 0.5,\n",
    "        * then a gene from parent A is given, else: parent B\n",
    "        * This is done for n = self.population_size\n",
    "        \"\"\"\n",
    "        parentA = np.array(parents[0], dtype=int)\n",
    "        parentB = np.array(parents[1], dtype=int)\n",
    "        child = np.empty(shape=[0, 1], dtype=int)\n",
    "        idx_prob = np.random.random_sample(self.dim)\n",
    "        for i in range(len(idx_prob)):\n",
    "            if idx_prob[i] > 0.5:\n",
    "                child = np.append(child, parentA[i])\n",
    "            else:\n",
    "                child = np.append(child, parentB[i])\n",
    "        return child\n",
    "\n",
    "\n",
    "    def fitness(self, candidate, problem):\n",
    "        \"\"\"\n",
    "        Return the fitness metric\n",
    "        \"\"\"\n",
    "        fitness = problem(candidate)\n",
    "        self.fitness_scores.append(fitness)\n",
    "        return fitness\n",
    "\n",
    "\n",
    "    def population_fitness(self):\n",
    "        \"\"\"\"\n",
    "        Calculate the fitness score for the whole population\n",
    "        Calculation of the fitness score is explained in fitness(self, candidate)\n",
    "        \"\"\"\n",
    "        pop_fitness = sum(self.fitness_scores)\n",
    "        return pop_fitness\n",
    "\n",
    "\n",
    "    def __call__(self, problem: ioh.problem.Integer) -> None:\n",
    "        self.dim = problem.meta_data.n_variables\n",
    "        self.population = self.generate_population()\n",
    "        # assert problem.state.evaluations > self.max_iterations\n",
    "        # print('best solution', problem.state.current_best.x)\n",
    "        # while (problem.state.evaluations < self.max_iterations) and (problem.state.current_best.x != problem.objective.x):\n",
    "        while (problem.state.evaluations < self.max_iterations) and problem.state.current_best.x != 100.0:\n",
    "            # print('test 3')\n",
    "            parents = self.selection(problem=problem)\n",
    "            offspring = self.crossover(parents)\n",
    "            mutated_offspring = self.mutation(offspring)\n",
    "            self.population = mutated_offspring\n",
    "            for cand in range(len(self.population)):\n",
    "                new_y = self.fitness_scores[cand]\n",
    "                if new_y > self.y_best:\n",
    "                    self.y_best = new_y\n",
    "                    self.x_best = list(self.population[cand])\n",
    "                    # print('best x: ', self.x_best, 'with y value of:', self.y_best)\n",
    "            self.fitness_scores.clear()\n",
    "        problem(self.x_best)\n",
    "        # print('evaluations: ', problem.state.evaluations)\n",
    "        # return problem.state.current_best\n",
    "        pass\n",
    "\n",
    "\n",
    "\n",
    "\n"
   ]
  },
  {
   "cell_type": "code",
   "execution_count": 182,
   "id": "952839b5-c0db-4e30-8dc0-f7df02e6ddfc",
   "metadata": {
    "tags": []
   },
   "outputs": [
    {
     "ename": "AssertionError",
     "evalue": "selection only accepts \"proportional\" or \"rank\"",
     "output_type": "error",
     "traceback": [
      "\u001b[0;31m---------------------------------------------------------------------------\u001b[0m",
      "\u001b[0;31mAssertionError\u001b[0m                            Traceback (most recent call last)",
      "\u001b[0;32m/var/folders/v6/wtz1wypx0kxcttw_sxrc4x_00000gn/T/ipykernel_30989/2102045738.py\u001b[0m in \u001b[0;36m<module>\u001b[0;34m\u001b[0m\n\u001b[1;32m     23\u001b[0m     \u001b[0mprint\u001b[0m\u001b[0;34m(\u001b[0m\u001b[0;34m)\u001b[0m\u001b[0;34m\u001b[0m\u001b[0;34m\u001b[0m\u001b[0m\n\u001b[1;32m     24\u001b[0m \u001b[0;34m\u001b[0m\u001b[0m\n\u001b[0;32m---> 25\u001b[0;31m \u001b[0mmain\u001b[0m\u001b[0;34m(\u001b[0m\u001b[0;34m)\u001b[0m\u001b[0;34m\u001b[0m\u001b[0;34m\u001b[0m\u001b[0m\n\u001b[0m",
      "\u001b[0;32m/var/folders/v6/wtz1wypx0kxcttw_sxrc4x_00000gn/T/ipykernel_30989/2102045738.py\u001b[0m in \u001b[0;36mmain\u001b[0;34m()\u001b[0m\n\u001b[1;32m     12\u001b[0m \u001b[0;34m\u001b[0m\u001b[0m\n\u001b[1;32m     13\u001b[0m     \u001b[0;31m#Instantiate the algoritm, you should replace this with your GA implementation\u001b[0m\u001b[0;34m\u001b[0m\u001b[0;34m\u001b[0m\u001b[0m\n\u001b[0;32m---> 14\u001b[0;31m     \u001b[0malgorithm\u001b[0m \u001b[0;34m=\u001b[0m \u001b[0mGeneticAlgorithm\u001b[0m\u001b[0;34m(\u001b[0m\u001b[0mmutation_type\u001b[0m\u001b[0;34m=\u001b[0m\u001b[0;34m\"swap\"\u001b[0m\u001b[0;34m,\u001b[0m\u001b[0mselection\u001b[0m\u001b[0;34m=\u001b[0m\u001b[0;34m\"rankd\"\u001b[0m\u001b[0;34m,\u001b[0m\u001b[0mpop_size\u001b[0m\u001b[0;34m=\u001b[0m\u001b[0;36m20\u001b[0m\u001b[0;34m)\u001b[0m\u001b[0;34m\u001b[0m\u001b[0;34m\u001b[0m\u001b[0m\n\u001b[0m\u001b[1;32m     15\u001b[0m \u001b[0;34m\u001b[0m\u001b[0m\n\u001b[1;32m     16\u001b[0m     \u001b[0;31m# Run the algoritm on the problem\u001b[0m\u001b[0;34m\u001b[0m\u001b[0;34m\u001b[0m\u001b[0m\n",
      "\u001b[0;32m~/Documents/CSLeiden/Semester5/naco/Assignment 2/src/algorithm.py\u001b[0m in \u001b[0;36mwrapper\u001b[0;34m(instance, *args, **kwargs)\u001b[0m\n\u001b[1;32m     16\u001b[0m             \u001b[0;34m@\u001b[0m\u001b[0mfunctools\u001b[0m\u001b[0;34m.\u001b[0m\u001b[0mwraps\u001b[0m\u001b[0;34m(\u001b[0m\u001b[0minit\u001b[0m\u001b[0;34m)\u001b[0m\u001b[0;34m\u001b[0m\u001b[0;34m\u001b[0m\u001b[0m\n\u001b[1;32m     17\u001b[0m             \u001b[0;32mdef\u001b[0m \u001b[0mwrapper\u001b[0m\u001b[0;34m(\u001b[0m\u001b[0minstance\u001b[0m\u001b[0;34m,\u001b[0m \u001b[0;34m*\u001b[0m\u001b[0margs\u001b[0m\u001b[0;34m,\u001b[0m \u001b[0;34m**\u001b[0m\u001b[0mkwargs\u001b[0m\u001b[0;34m)\u001b[0m\u001b[0;34m:\u001b[0m\u001b[0;34m\u001b[0m\u001b[0;34m\u001b[0m\u001b[0m\n\u001b[0;32m---> 18\u001b[0;31m                 \u001b[0minit\u001b[0m\u001b[0;34m(\u001b[0m\u001b[0minstance\u001b[0m\u001b[0;34m,\u001b[0m \u001b[0;34m*\u001b[0m\u001b[0margs\u001b[0m\u001b[0;34m,\u001b[0m \u001b[0;34m**\u001b[0m\u001b[0mkwargs\u001b[0m\u001b[0;34m)\u001b[0m\u001b[0;34m\u001b[0m\u001b[0;34m\u001b[0m\u001b[0m\n\u001b[0m\u001b[1;32m     19\u001b[0m                 \u001b[0;32mif\u001b[0m \u001b[0;32mnot\u001b[0m \u001b[0mhasattr\u001b[0m\u001b[0;34m(\u001b[0m\u001b[0minstance\u001b[0m\u001b[0;34m,\u001b[0m \u001b[0;34m\"max_iterations\"\u001b[0m\u001b[0;34m)\u001b[0m\u001b[0;34m:\u001b[0m\u001b[0;34m\u001b[0m\u001b[0;34m\u001b[0m\u001b[0m\n\u001b[1;32m     20\u001b[0m                     raise AttributeError(\n",
      "\u001b[0;32m/var/folders/v6/wtz1wypx0kxcttw_sxrc4x_00000gn/T/ipykernel_30989/3114109393.py\u001b[0m in \u001b[0;36m__init__\u001b[0;34m(self, pop_size, dim, seed, base, mutation_type, mutation_rate, selection)\u001b[0m\n\u001b[1;32m     21\u001b[0m \u001b[0;34m\u001b[0m\u001b[0m\n\u001b[1;32m     22\u001b[0m     \u001b[0;32mdef\u001b[0m \u001b[0m__init__\u001b[0m\u001b[0;34m(\u001b[0m\u001b[0mself\u001b[0m\u001b[0;34m,\u001b[0m \u001b[0mpop_size\u001b[0m\u001b[0;34m=\u001b[0m\u001b[0;36m22\u001b[0m\u001b[0;34m,\u001b[0m \u001b[0mdim\u001b[0m\u001b[0;34m=\u001b[0m\u001b[0;36m10\u001b[0m\u001b[0;34m,\u001b[0m \u001b[0mseed\u001b[0m\u001b[0;34m=\u001b[0m\u001b[0;36m23\u001b[0m\u001b[0;34m,\u001b[0m \u001b[0mbase\u001b[0m\u001b[0;34m=\u001b[0m\u001b[0;36m2\u001b[0m\u001b[0;34m,\u001b[0m \u001b[0mmutation_type\u001b[0m\u001b[0;34m=\u001b[0m\u001b[0;34m\"swap\"\u001b[0m\u001b[0;34m,\u001b[0m \u001b[0mmutation_rate\u001b[0m\u001b[0;34m=\u001b[0m\u001b[0;36m0.5\u001b[0m\u001b[0;34m,\u001b[0m \u001b[0mselection\u001b[0m\u001b[0;34m=\u001b[0m\u001b[0;34m\"proportional\"\u001b[0m\u001b[0;34m)\u001b[0m\u001b[0;34m:\u001b[0m\u001b[0;34m\u001b[0m\u001b[0;34m\u001b[0m\u001b[0m\n\u001b[0;32m---> 23\u001b[0;31m         \u001b[0;32massert\u001b[0m \u001b[0mselection\u001b[0m \u001b[0;34m==\u001b[0m \u001b[0;34m\"proportional\"\u001b[0m \u001b[0;32mor\u001b[0m \u001b[0mselection\u001b[0m \u001b[0;34m==\u001b[0m \u001b[0;34m\"rank\"\u001b[0m\u001b[0;34m,\u001b[0m \u001b[0;34m\"selection only accepts \\\"proportional\\\" or \\\"rank\\\"\"\u001b[0m\u001b[0;34m\u001b[0m\u001b[0;34m\u001b[0m\u001b[0m\n\u001b[0m\u001b[1;32m     24\u001b[0m         \u001b[0msuper\u001b[0m\u001b[0;34m(\u001b[0m\u001b[0;34m)\u001b[0m\u001b[0;34m.\u001b[0m\u001b[0m__init__\u001b[0m\u001b[0;34m(\u001b[0m\u001b[0mmax_iterations\u001b[0m\u001b[0;34m=\u001b[0m\u001b[0;36m50000\u001b[0m\u001b[0;34m)\u001b[0m\u001b[0;34m\u001b[0m\u001b[0;34m\u001b[0m\u001b[0m\n\u001b[1;32m     25\u001b[0m         \u001b[0mself\u001b[0m\u001b[0;34m.\u001b[0m\u001b[0mmutation_type\u001b[0m \u001b[0;34m=\u001b[0m \u001b[0mmutation_type\u001b[0m\u001b[0;34m\u001b[0m\u001b[0;34m\u001b[0m\u001b[0m\n",
      "\u001b[0;31mAssertionError\u001b[0m: selection only accepts \"proportional\" or \"rank\""
     ]
    }
   ],
   "source": [
    "def main():\n",
    "\n",
    "    # Set a random seed in order to get reproducible results\n",
    "    random.seed(42)\n",
    "    # np.random.seed(2)\n",
    "\n",
    "    # Get a problem from the IOHexperimenter environment\n",
    "    problem: ioh.problem.Integer = ioh.get_problem(2, 1, 10, \"Integer\")\n",
    "    \n",
    "    # print(problem([1,1,1,0,1,0]))\n",
    "    # print(problem.objective.x)\n",
    "\n",
    "    #Instantiate the algoritm, you should replace this with your GA implementation\n",
    "    algorithm = GeneticAlgorithm(mutation_type=\"swap\",selection=\"rankd\",pop_size=20)\n",
    "\n",
    "    # Run the algoritm on the problem\n",
    "    algorithm(problem)\n",
    "\n",
    "    # Inspect the results\n",
    "    print(\"Best solution found:\")\n",
    "    print(\"\".join(map(str, problem.state.current_best.x)))\n",
    "    print(\"With an objective value of:\", problem.state.current_best.y)\n",
    "    print()\n",
    "    \n",
    "main()"
   ]
  },
  {
   "cell_type": "code",
   "execution_count": 125,
   "id": "d1baaa9e-e793-422d-9231-9558b0181418",
   "metadata": {},
   "outputs": [],
   "source": [
    "# problem: ioh.problem.Integer = ioh.get_problem(2, 1, 10, \"Integer\")\n",
    "\n",
    "# problem.objective.x"
   ]
  },
  {
   "cell_type": "markdown",
   "id": "be718913-2616-4cb4-b4a9-2a4389bde2a4",
   "metadata": {},
   "source": [
    "## Cellular Automata and the inversing problem:"
   ]
  },
  {
   "cell_type": "code",
   "execution_count": 63,
   "id": "329fdc08-bd21-45b3-a96c-33a1425d8121",
   "metadata": {},
   "outputs": [],
   "source": [
    "import typing\n",
    "import math\n",
    "import ioh\n",
    "\n",
    "from implementation import RandomSearch\n",
    "\n",
    "class CellularAutomata:\n",
    "    '''Skeleton CA, you should implement this.'''\n",
    "    \n",
    "     \n",
    "    def __init__(self, rule_number: int, neighborhood_radius = 1, length = 10, max_steps = 50, edge=0, base = 2):\n",
    "        \"\"\"\n",
    "        TODO: \n",
    "        * Define a rule\n",
    "        * Given a certain rule, such as 112 -> Convert it to binary\n",
    "        * Most significant bit is left\n",
    "        * checks implementeren om te kijken of arrays wel van goede lengte zijn\n",
    "        * checks implementeren om te kijken of een rule wel valid is\n",
    "        \"\"\"\n",
    "        # self.init_state = init_state\n",
    "        self.time_step = 0\n",
    "        self.state = []\n",
    "        self.rule_number = rule_number\n",
    "        self.radius = neighborhood_radius\n",
    "        self.length = length\n",
    "        self.max_steps = max_steps\n",
    "        self.edge = edge\n",
    "        self.base = base\n",
    "        # self.curr_state = init_state\n",
    "        self.possible_rules = int(math.pow(self.base,2*self.radius+1))\n",
    "        \n",
    "        pass\n",
    "    \n",
    "    \n",
    "    def rule_to_base_k(self):\n",
    "        \"\"\"\n",
    "        Convert a rule to a certain base-k representation,\n",
    "        and then save it to a list\n",
    "        \"\"\"\n",
    "        rule_converted = np.base_repr(self.rule_number, base=self.base)\n",
    "        rule_list = [int(x) for x in str(rule_converted)]\n",
    "        while(len(rule_list) != self.possible_rules):\n",
    "            rule_list.insert(0,0)\n",
    "        return rule_list\n",
    "    \n",
    "    \n",
    "    def convert_to_binary(self, num, length):\n",
    "        \"\"\"\n",
    "        Convert a base 10 number to a base 2 representation, given a certain length for the bitstring\n",
    "        \"\"\"\n",
    "        bitstring = np.binary_repr(num, width=length)\n",
    "        print('type of bitstring: ', type(bitstring))\n",
    "        return bitstring\n",
    "    \n",
    "    def convert_to_other_base(self, num, length):\n",
    "        \"\"\"\n",
    "        Convert a base 10 number to a base k representation, given a certain length for the output\n",
    "        \"\"\"\n",
    "        converted_num = np.base_repr(num, base=self.base)\n",
    "        # print('length of basestring:', length)\n",
    "        while(len(converted_num) != length):\n",
    "            converted_num_list = [int(x) for x in str(converted_num)]\n",
    "            converted_num_list.insert(0,0)\n",
    "            converted_str = ''\n",
    "            converted_num = converted_str.join(map(str, converted_num_list))\n",
    "        # print('len of converted bitstring:',len(converted_num))\n",
    "        return converted_num\n",
    "    \n",
    "    def possible_neighborhood_states(self):\n",
    "        \"\"\"\n",
    "        This function returns a list with the possible states, that will lead to a non-zero cells in the next time step.\n",
    "        ie, if the list contains 101 for base 2, it means if for a certain cell C the neighborhood looks like 101 =>\n",
    "        Cell C will be 1 in timestep t+1\n",
    "        \"\"\"\n",
    "        evaluate_rule = self.rule_to_base_k()\n",
    "        neighborhood_states = []\n",
    "        neighborhood_state = self.possible_rules\n",
    "        next_gen = []\n",
    "        for i in range(0, self.possible_rules):\n",
    "            if evaluate_rule[i]:\n",
    "                neighborhood_state = self.possible_rules-i-1\n",
    "                # print(neighborhood_state)\n",
    "                neighborhood_state_bits  = self.convert_to_other_base(neighborhood_state, length = 2 * self.radius+1)\n",
    "                neighborhood_states.append(neighborhood_state_bits)\n",
    "                next_gen.append(evaluate_rule[i])\n",
    "        # print(neighborhood_states)\n",
    "        return neighborhood_states, next_gen\n",
    "                \n",
    "        \n",
    "    def compare_state_rule(self, neighborhood, cell):\n",
    "        \"\"\"\n",
    "        Returns whether a neighborhood is contaminated in possible_neighborhood_states()\n",
    "        If this is the case return the value of a cell in the next gen\n",
    "        Else return 0\n",
    "        \"\"\"\n",
    "        rule_states, next_gen = self.possible_neighborhood_states()\n",
    "        if neighborhood in rule_states:\n",
    "            idx = rule_states.index(neighborhood)\n",
    "            return next_gen[idx]\n",
    "        else: return 0\n",
    "        \n",
    "        \n",
    "        \n",
    "    def get_neighbors(self, state):\n",
    "        \n",
    "        \"\"\"\n",
    "        Given a certain state S\n",
    "        for every cell in S lookup the neighbors\n",
    "        For example, given S = [1,0,0,0,0,0,0,0,1,1], base = 2 and radius = 1\n",
    "        This would return the following dict for cell 8:\n",
    "        8: {'left': 0, 'cell': 1, 'right': 1},\n",
    "        \"\"\"\n",
    "        left = 0\n",
    "        right = 0\n",
    "        neighborhood = {}\n",
    "        neighborhood_of_cell = {}\n",
    "        \n",
    "        for cell in range(len(state)):\n",
    "            if cell == 0:\n",
    "                left = 0\n",
    "            else: left = state[cell-1]\n",
    "            if cell == len(state)-1:\n",
    "                right = 0\n",
    "            else: right = state[cell+1]\n",
    "\n",
    "            neighborhood_of_cell = {                    \n",
    "            \"left\" : left,\n",
    "            \"cell\" : state[cell],\n",
    "            \"right\" : right \n",
    "            }\n",
    "            neighborhood[cell] = neighborhood_of_cell\n",
    "        return neighborhood\n",
    "        \n",
    "    \n",
    "    def step(self, state):\n",
    "        \"\"\"\n",
    "        Do a timestep in the cellular automaton\n",
    "        Given a certain state perform a rule-update (transition)\n",
    "        Return the new state as a list\n",
    "        \"\"\"\n",
    "        next_state = []\n",
    "        neighborhood_dict = self.get_neighbors(state)\n",
    "        for cell in neighborhood_dict:\n",
    "            left = neighborhood_dict[cell][\"left\"]\n",
    "            cell_ = neighborhood_dict[cell][\"cell\"]\n",
    "            right = neighborhood_dict[cell][\"right\"]\n",
    "            neighbors_bits = f\"{str(left)}{str(cell_)}{str(right)}\"\n",
    "            \n",
    "            next_gen = self.compare_state_rule(neighbors_bits, cell)\n",
    "            if next_gen:\n",
    "                next_state.append(next_gen)\n",
    "            else:\n",
    "                next_state.append(0)\n",
    "\n",
    "                    \n",
    "\n",
    "        return next_state\n",
    "\n",
    "\n",
    "    def __call__(self, c0: typing.List[int], t: int) -> typing.List[int]:\n",
    "        '''Evaluate for T timesteps. Return Ct for a given C0.'''\n",
    "        self.state = c0\n",
    "        print(self.state)\n",
    "        for i in range(t):\n",
    "            print(t)\n",
    "            self.state = self.step(self.state)\n",
    "            print(f'generation {t}:',self.state)\n",
    "        pass"
   ]
  },
  {
   "cell_type": "code",
   "execution_count": 68,
   "id": "c8a18d3d-7e27-4440-b9ac-4ea552722309",
   "metadata": {
    "tags": []
   },
   "outputs": [
    {
     "name": "stdout",
     "output_type": "stream",
     "text": [
      "[1, 1, 1, 1, 1, 1, 1, 1, 1, 1, 1, 1, 1, 1, 1, 1, 1, 1, 1, 1, 1, 1, 1, 1, 1, 1, 1, 1, 1, 1, 1, 1, 1, 1, 1, 0, 0, 1, 1, 1, 1, 1, 1, 1, 1, 1, 1, 1, 1, 1, 1, 1, 1, 1, 1, 1, 1, 1, 1, 1]\n",
      "1\n",
      "generation 1: [1, 0, 0, 0, 0, 0, 0, 0, 0, 0, 0, 0, 0, 0, 0, 0, 0, 0, 0, 0, 0, 0, 0, 0, 0, 0, 0, 0, 0, 0, 0, 0, 0, 0, 0, 1, 1, 1, 0, 0, 0, 0, 0, 0, 0, 0, 0, 0, 0, 0, 0, 0, 0, 0, 0, 0, 0, 0, 0, 0]\n"
     ]
    }
   ],
   "source": [
    "CA = CellularAutomata(rule_number = 30, length=60, base=2)\n",
    "# CA(c0=[0, 0, 0, 0, 0, 0, 0, 0, 0, 0, 0, 0, 0, 0, 0, 0, 0, 0, 0, 0, 0, 0, 0, 0, 0, 0, 0, 0, 0, 0, 1, 0, 0, 0, 0, 0, 0, 0, 0, 0, 0, 0, 0, 0, 0, 0, 0, 0, 0, 0, 0, 0, 0, 0, 0, 0, 0, 0, 0, 0], t = 1)\n",
    "CA(c0=[1, 1, 1, 1, 1, 1, 1, 1, 1, 1, 1, 1, 1, 1, 1, 1, 1, 1, 1, 1, 1, 1, 1, 1, 1, 1, 1, 1, 1, 1, 1, 1, 1, 1, 1, 0, 0, 1, 1, 1, 1, 1, 1, 1, 1, 1, 1, 1, 1, 1, 1, 1, 1, 1, 1, 1, 1, 1, 1, 1],t=1)\n",
    "# print(CA.possible)\n",
    "# CA.get_neighbors([1,0,0,0,0,0,0,0,1,1])\n",
    "# CA.rule_to_base_k()\n",
    "# CA.possible_neighborhood_states()\n",
    "# CA.convert_to_other_base(num=2, length=3)\n",
    "# CA.convert_to_binary(num=2, length=3)\n",
    "# CA.step([1,0,0,0,0,0,0,0,1,1])"
   ]
  },
  {
   "cell_type": "markdown",
   "id": "b5ca6ec5-b33e-4d6e-a94f-943a1f82c43b",
   "metadata": {},
   "source": [
    "## The inverse problem\n",
    "* Goal: given a rule number R, a state S, and integer X, generate the initial state which will lead to S after X steps with rule R"
   ]
  },
  {
   "cell_type": "code",
   "execution_count": 322,
   "id": "1cff780a-0175-462e-8aa4-09ecdbbd7f53",
   "metadata": {},
   "outputs": [
    {
     "data": {
      "text/plain": [
       "array([1, 2, 3, 4])"
      ]
     },
     "execution_count": 322,
     "metadata": {},
     "output_type": "execute_result"
    }
   ],
   "source": [
    "lijst =  [1,2,3]\n",
    "np.append(lijst,4)"
   ]
  },
  {
   "cell_type": "code",
   "execution_count": 469,
   "id": "e1b77bba-c4aa-4ce9-bbb4-e8394b183593",
   "metadata": {},
   "outputs": [
    {
     "data": {
      "text/plain": [
       "[(array([10,  1,  2, 13, 14]), array([ 0, 11, 12,  3,  4])),\n",
       " (array([10,  1,  2,  3,  4]), array([ 0, 11, 12, 13, 14])),\n",
       " (array([ 0,  1,  2, 13,  4]), array([10, 11, 12,  3, 14])),\n",
       " (array([10,  1,  2,  3,  4]), array([ 0, 11, 12, 13, 14])),\n",
       " (array([ 0,  1,  2, 13,  4]), array([10, 11, 12,  3, 14])),\n",
       " (array([10, 11, 12,  3,  4]), array([ 0,  1,  2, 13, 14])),\n",
       " (array([10, 11,  2, 13, 14]), array([ 0,  1, 12,  3,  4])),\n",
       " (array([ 0, 11,  2, 13, 14]), array([10,  1, 12,  3,  4])),\n",
       " (array([ 0, 11, 12,  3,  4]), array([10,  1,  2, 13, 14])),\n",
       " (array([10, 11, 12, 13,  4]), array([ 0,  1,  2,  3, 14]))]"
      ]
     },
     "execution_count": 469,
     "metadata": {},
     "output_type": "execute_result"
    }
   ],
   "source": [
    "def cross(parents):\n",
    "        \"\"\"\n",
    "        * Given two parents, create a child based on a random uniform probability\n",
    "        * Children are created by a simple treshold. If the probability of a certain index in idx_prob is higher than 0.5, \n",
    "        * then a gene from parent A is given, else: parent B\n",
    "        * This is done for n = self.population_size \n",
    "        \"\"\"\n",
    "        # parentA = np.array(parents[0], dtype=int)\n",
    "        # parentB = np.array(parents[1], dtype=int)\n",
    "        # child = np.empty(shape=[0,1], dtype=int)\n",
    "        # idx_prob = np.random.random_sample(5)\n",
    "        # for i in range(len(idx_prob)):\n",
    "        #     if idx_prob[i] > 0.5:\n",
    "        #         child = np.append(child, parentA[i])\n",
    "        #     else:\n",
    "        #         child = np.append(child, parentB[i])\n",
    "        # return child\n",
    "\n",
    "        parentA = np.array(parents[0], dtype=int)\n",
    "        parentB = np.array(parents[1], dtype=int)\n",
    "        childA = np.empty(shape=[0,1], dtype=int)\n",
    "        childB = np.empty(shape=[0,1], dtype=int)\n",
    "        idx_prob = np.random.random_sample(5)\n",
    "        \n",
    "        for i in range(len(idx_prob)):\n",
    "            if idx_prob[i] > 0.5:\n",
    "                childA = np.append(childA, parentA[i])\n",
    "                childB = np.append(childB, parentB[i])\n",
    "            else:\n",
    "                childA = np.append(childA, parentB[i])\n",
    "                childB = np.append(childB, parentA[i])\n",
    "        return childA, childB\n",
    "\n",
    "def crossover(parents):\n",
    "        \"\"\"\n",
    "        For every child in the offspring apply a crossover.\n",
    "        \"\"\"\n",
    "        if(len(parents) != 2):\n",
    "            raise ValueError(\"There should be 2 parents\")\n",
    "        offspring = []\n",
    "        for i in range(10):\n",
    "            offspring.append(cross(parents))\n",
    "\n",
    "        return offspring    \n",
    "\n",
    "    \n",
    "    \n",
    "p1 = [0,1,2,3,4]\n",
    "p2 = [10,11,12,13,14]\n",
    "p1_2 = np.empty(shape=(0, 5))\n",
    "p1_2 = np.append(p1_2,np.array([p1,p2],dtype=int), axis=0)\n",
    "\n",
    "\n",
    "# len(p1_2)\n",
    "\n",
    "crossover(p1_2)"
   ]
  },
  {
   "cell_type": "code",
   "execution_count": 816,
   "id": "408212f0-cc67-4973-8a4d-321db32f71cb",
   "metadata": {},
   "outputs": [
    {
     "name": "stdout",
     "output_type": "stream",
     "text": [
      "['pos1' 'val1']\n"
     ]
    }
   ],
   "source": [
    "gek = [0,2,3,4,5,6]\n",
    "\n",
    "arr = np.empty(shape=(0,2))\n",
    "\n",
    "arr = np.append(arr, 'pos1')\n",
    "arr = np.append(arr, 'val1')\n",
    "print(arr)"
   ]
  },
  {
   "cell_type": "code",
   "execution_count": 833,
   "id": "f2bd74e3-61d8-47f8-89e6-d778fbb426f6",
   "metadata": {},
   "outputs": [
    {
     "data": {
      "text/plain": [
       "60"
      ]
     },
     "execution_count": 833,
     "metadata": {},
     "output_type": "execute_result"
    }
   ],
   "source": [
    "len([0, 0, 0, 0, 0, 0, 0, 0, 0, 0, 0, 0, 0, 0, 0, 0, 0, 0, 0, 0, 0, 0, 0, 0, 0, 0, 0, 0, 0, 1, 1, 1, 0, 0, 0, 0, 0, 0, 0, 0, 0, 0, 0, 0, 0, 0, 0, 0, 0, 0, 0, 0, 0, 0, 0, 0, 0, 0, 0, 0]\n",
    ")"
   ]
  },
  {
   "cell_type": "code",
   "execution_count": 842,
   "id": "ae2df849-2ec0-4c63-82fb-6ca663f543f0",
   "metadata": {
    "collapsed": true,
    "jupyter": {
     "outputs_hidden": true
    },
    "tags": []
   },
   "outputs": [
    {
     "data": {
      "text/plain": [
       "0.3"
      ]
     },
     "execution_count": 842,
     "metadata": {},
     "output_type": "execute_result"
    }
   ],
   "source": [
    "def hamming_dist(list1, list2):\n",
    "    # print('list1:',list1)\n",
    "    # print('list2:',list2)\n",
    "    assert len(list1) == len(list2), \"The length of list1 is not equal to the length of list2\"\n",
    "\n",
    "    same_count = 0\n",
    "    for i in range(len(list1)):\n",
    "        if list1[i] == list2[i]:\n",
    "            same_count += 1\n",
    "    hamming_dist_perc = same_count/len(list1)\n",
    "    return hamming_dist_perc\n",
    "list1 = [0, 0, 0, 1, 1, 0, 1, 1, 1, 1, 1, 0, 0, 1, 1, 1, 1, 1, 1, 1, 1, 1, 1, 0, 1, 1, 1, 1, 1, 1, 1, 1, 1, 1, 1, 1, 1, 0, 1, 1, 1, 1, 0, 1, 1, 0, 1, 1, 0, 1, 0, 0, 1, 0, 0, 1, 1, 1, 1, 1]\n",
    "list2 = [0, 0, 0, 0, 0, 0, 0, 0, 0, 0, 0, 0, 0, 0, 0, 0, 0, 0, 0, 0, 0, 0, 0, 0, 0, 0, 0, 0, 0, 1, 1, 1, 0, 0, 0, 0, 0, 0, 0, 0, 0, 0, 0, 0, 0, 0, 0, 0, 0, 0, 0, 0, 0, 0, 0, 0, 0, 0, 0, 0]\n",
    "objective_function,hamming_dist(list1,list2)"
   ]
  },
  {
   "cell_type": "code",
   "execution_count": 22,
   "id": "957fd04a-a4ff-48d3-9538-cb12df33cc8b",
   "metadata": {},
   "outputs": [
    {
     "data": {
      "text/plain": [
       "1.0"
      ]
     },
     "execution_count": 22,
     "metadata": {},
     "output_type": "execute_result"
    }
   ],
   "source": [
    "import ioh\n",
    "import typing\n",
    "# problem = ioh.problem.wrap_integer_problem(\n",
    "#         objective_function,\n",
    "#         \"objective_function_ca_1\",\n",
    "#         60, \n",
    "#         ioh.OptimizationType.Maximization,\n",
    "#         ioh.IntegerConstraint([0]*60, [1]*60)\n",
    "    \n",
    "# )\n",
    "\n",
    "# print(h)\n",
    "\n",
    "\n",
    "def objective_function(c0_prime: typing.List[int]) -> float:\n",
    "    if sum(c0_prime) > 0:\n",
    "        return 1.0\n",
    "    else:\n",
    "        return 0.0\n",
    "\n",
    "\n",
    "problem: ioh.problem.Integer = ioh.problem.wrap_integer_problem(\n",
    "        objective_function,\n",
    "        \"objective_function\",\n",
    "        n_variables=5,\n",
    "        optimization_type=ioh.OptimizationType.Maximization\n",
    "    )\n",
    "    # print('variables:', problem.meta_data.n_variables)\n",
    "# ?get_problem\n",
    "# print('objective.y = ', problem.objective.y)\n",
    "problem([1,0,0,0,0])"
   ]
  },
  {
   "cell_type": "code",
   "execution_count": 114,
   "id": "35691a45-fde1-4994-93cf-3a574773d7fa",
   "metadata": {},
   "outputs": [
    {
     "data": {
      "text/plain": [
       "100.0"
      ]
     },
     "execution_count": 114,
     "metadata": {},
     "output_type": "execute_result"
    }
   ],
   "source": [
    "def hamming_dist(list1, list2):\n",
    "    # print(list2)\n",
    "    assert len(list1) == len(list2), \"The length of list1 is not equal to the length of list2\"\n",
    "\n",
    "    same_count = 0\n",
    "    for i in range(len(list1)):\n",
    "        if list1[i] == list2[i]:\n",
    "            same_count += 1\n",
    "    hamming_dist_perc = same_count/len(list1)\n",
    "    return hamming_dist_perc*100\n",
    "\n",
    "hamming_dist([1,1,1,1,1], [1,1,1,1,1])"
   ]
  },
  {
   "cell_type": "code",
   "execution_count": 116,
   "id": "3c6d612a-2f3c-4fb1-bcde-4c472dec265e",
   "metadata": {},
   "outputs": [
    {
     "ename": "SyntaxError",
     "evalue": "cannot assign to function call (1397523525.py, line 3)",
     "output_type": "error",
     "traceback": [
      "\u001b[0;36m  File \u001b[0;32m\"/var/folders/v6/wtz1wypx0kxcttw_sxrc4x_00000gn/T/ipykernel_30989/1397523525.py\"\u001b[0;36m, line \u001b[0;32m3\u001b[0m\n\u001b[0;31m    ll(0,0) = 1\u001b[0m\n\u001b[0m    ^\u001b[0m\n\u001b[0;31mSyntaxError\u001b[0m\u001b[0;31m:\u001b[0m cannot assign to function call\n"
     ]
    }
   ],
   "source": [
    "ll = np.empty(shape=(3,3))\n",
    "\n",
    "ll(0,0) = 1\n",
    "ll(0,1) = 11\n",
    "\n",
    "ll(1,0) = 2\n",
    "ll(1,1) = 22\n",
    "ll"
   ]
  },
  {
   "cell_type": "code",
   "execution_count": 192,
   "id": "b100eb0a-46b2-4cfa-8caf-c0c0d6b5c351",
   "metadata": {},
   "outputs": [
    {
     "data": {
      "text/plain": [
       "0.81"
      ]
     },
     "execution_count": 192,
     "metadata": {},
     "output_type": "execute_result"
    }
   ],
   "source": [
    "(9**2)/(10**2)"
   ]
  },
  {
   "cell_type": "code",
   "execution_count": 194,
   "id": "f7f3a2c8-284d-439d-8138-1c2bd398d1c6",
   "metadata": {},
   "outputs": [
    {
     "data": {
      "text/plain": [
       "1.0"
      ]
     },
     "execution_count": 194,
     "metadata": {},
     "output_type": "execute_result"
    }
   ],
   "source": [
    "10/10"
   ]
  },
  {
   "cell_type": "code",
   "execution_count": 202,
   "id": "771149e9-10df-4801-b8f8-8de680dd2b4f",
   "metadata": {},
   "outputs": [
    {
     "name": "stdout",
     "output_type": "stream",
     "text": [
      "2\n"
     ]
    },
    {
     "ename": "UnboundLocalError",
     "evalue": "local variable 'groot' referenced before assignment",
     "output_type": "error",
     "traceback": [
      "\u001b[0;31m---------------------------------------------------------------------------\u001b[0m",
      "\u001b[0;31mUnboundLocalError\u001b[0m                         Traceback (most recent call last)",
      "\u001b[0;32m/var/folders/v6/wtz1wypx0kxcttw_sxrc4x_00000gn/T/ipykernel_30989/3474197828.py\u001b[0m in \u001b[0;36m<module>\u001b[0;34m\u001b[0m\n\u001b[1;32m      8\u001b[0m \u001b[0;32mdef\u001b[0m \u001b[0mwejow\u001b[0m\u001b[0;34m(\u001b[0m\u001b[0;34m)\u001b[0m\u001b[0;34m:\u001b[0m\u001b[0;34m\u001b[0m\u001b[0;34m\u001b[0m\u001b[0m\n\u001b[1;32m      9\u001b[0m     \u001b[0mgroot\u001b[0m \u001b[0;34m=\u001b[0m \u001b[0mgroot\u001b[0m\u001b[0;34m+\u001b[0m\u001b[0;36m1\u001b[0m\u001b[0;34m\u001b[0m\u001b[0;34m\u001b[0m\u001b[0m\n\u001b[0;32m---> 10\u001b[0;31m \u001b[0mwejow\u001b[0m\u001b[0;34m(\u001b[0m\u001b[0;34m)\u001b[0m\u001b[0;34m\u001b[0m\u001b[0;34m\u001b[0m\u001b[0m\n\u001b[0m",
      "\u001b[0;32m/var/folders/v6/wtz1wypx0kxcttw_sxrc4x_00000gn/T/ipykernel_30989/3474197828.py\u001b[0m in \u001b[0;36mwejow\u001b[0;34m()\u001b[0m\n\u001b[1;32m      7\u001b[0m \u001b[0;34m\u001b[0m\u001b[0m\n\u001b[1;32m      8\u001b[0m \u001b[0;32mdef\u001b[0m \u001b[0mwejow\u001b[0m\u001b[0;34m(\u001b[0m\u001b[0;34m)\u001b[0m\u001b[0;34m:\u001b[0m\u001b[0;34m\u001b[0m\u001b[0;34m\u001b[0m\u001b[0m\n\u001b[0;32m----> 9\u001b[0;31m     \u001b[0mgroot\u001b[0m \u001b[0;34m=\u001b[0m \u001b[0mgroot\u001b[0m\u001b[0;34m+\u001b[0m\u001b[0;36m1\u001b[0m\u001b[0;34m\u001b[0m\u001b[0;34m\u001b[0m\u001b[0m\n\u001b[0m\u001b[1;32m     10\u001b[0m \u001b[0mwejow\u001b[0m\u001b[0;34m(\u001b[0m\u001b[0;34m)\u001b[0m\u001b[0;34m\u001b[0m\u001b[0;34m\u001b[0m\u001b[0m\n",
      "\u001b[0;31mUnboundLocalError\u001b[0m: local variable 'groot' referenced before assignment"
     ]
    }
   ],
   "source": [
    "\n",
    "def res():\n",
    "    global groot\n",
    "    groot = 2\n",
    "    \n",
    "res()\n",
    "print(groot)\n",
    "\n",
    "def wejow():\n",
    "    groot = \n",
    "wejow()"
   ]
  },
  {
   "cell_type": "code",
   "execution_count": 211,
   "id": "7319606d-16e9-4d54-bb80-c482589db646",
   "metadata": {},
   "outputs": [
    {
     "data": {
      "text/plain": [
       "720"
      ]
     },
     "execution_count": 211,
     "metadata": {},
     "output_type": "execute_result"
    }
   ],
   "source": [
    "np.random.randint(1000)"
   ]
  },
  {
   "cell_type": "code",
   "execution_count": null,
   "id": "b9cbf848-be24-4eda-8ee6-92041aea078d",
   "metadata": {},
   "outputs": [],
   "source": []
  }
 ],
 "metadata": {
  "kernelspec": {
   "display_name": "Python 3 (ipykernel)",
   "language": "python",
   "name": "python3"
  },
  "language_info": {
   "codemirror_mode": {
    "name": "ipython",
    "version": 3
   },
   "file_extension": ".py",
   "mimetype": "text/x-python",
   "name": "python",
   "nbconvert_exporter": "python",
   "pygments_lexer": "ipython3",
   "version": "3.9.7"
  }
 },
 "nbformat": 4,
 "nbformat_minor": 5
}
